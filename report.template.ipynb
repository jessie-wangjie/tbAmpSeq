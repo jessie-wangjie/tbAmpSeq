{
 "cells": [
  {
   "cell_type": "markdown",
   "id": "9a46c348",
   "metadata": {},
   "source": "# rhAmpSeq Clone Screening Report"
  },
  {
   "cell_type": "code",
   "execution_count": null,
   "id": "d403d5d1",
   "metadata": {},
   "outputs": [],
   "source": [
    "import pandas as pd\n",
    "import numpy as np\n",
    "from IPython.display import display, Markdown\n",
    "from itables import init_notebook_mode, show, options\n",
    "init_notebook_mode(all_interactive=True)\n",
    "options.column_filters = \"footer\""
   ]
  },
  {
   "cell_type": "code",
   "execution_count": null,
   "id": "8c5712c50ccf364d",
   "metadata": {},
   "outputs": [],
   "source": [
    "df = pd.read_csv('stats.csv')\n",
    "df[\"sample_aligned_read_num\"] = df[\"total_aligned_read_num\"].groupby(df[\"miseq_sample_name\"]).transform(\"sum\")\n",
    "df = df[[\"plate\", \"well\", \"total_read_num\", \"sample_aligned_read_num\", \"aaanid\", \"beacon_placement_percentage\",\"beacon_fidelity\", \"cargo_placement_percentage\"]]\n",
    "\n",
    "# predict monoallelic or biallelic\n",
    "df[\"alleles\"] = df[\"beacon_placement_percentage\"].apply(lambda x: \"No\" if x <= 25 else (\"biallelic\" if x > 75 else \"monoallelic\"))\n",
    "df[\"alleles\"] = df[[\"beacon_placement_percentage\", \"cargo_placement_percentage\"]].apply(lambda x: \"No\" if x.sum() <= 25 else (\"biallelic\" if x.sum() > 75 else \"monoallelic\"), axis=1)"
   ]
  },
  {
   "cell_type": "code",
   "execution_count": null,
   "id": "74deafe9",
   "metadata": {},
   "outputs": [],
   "source": [
    "for plate in df[\"plate\"].drop_duplicates().sort_values():\n",
    "    d = df.loc[df[\"plate\"] == plate].drop(\"plate\", axis=1)\n",
    "    d = d.pivot(index=[\"well\", \"total_read_num\", \"sample_aligned_read_num\"], columns=[\"aaanid\"]).dropna(axis='columns', how='all')\n",
    "    d = d[[\"cargo_placement_percentage\", \"beacon_placement_percentage\", \"beacon_fidelity\", \"alleles\"]].rename(columns={\"beacon_placement_percentage\": \"BP%\", \"cargo_placement_percentage\": \"PGI %\", \"beacon_fidelity\": \"BF%\"}).rename_axis(index={\"total_read_num\": \"total #\", \"sample_aligned_read_num\": \"align #\"})\n",
    "    \n",
    "    display(Markdown(f\"## Plate {plate}\"))\n",
    "    show(d, footer=True)"
   ]
  }
 ],
 "metadata": {
  "kernelspec": {
   "display_name": "Python 3 (ipykernel)",
   "language": "python",
   "name": "python3"
  },
  "language_info": {
   "codemirror_mode": {
    "name": "ipython",
    "version": 3
   },
   "file_extension": ".py",
   "mimetype": "text/x-python",
   "name": "python",
   "nbconvert_exporter": "python",
   "pygments_lexer": "ipython3",
   "version": "3.9.6"
  }
 },
 "nbformat": 4,
 "nbformat_minor": 5
}
